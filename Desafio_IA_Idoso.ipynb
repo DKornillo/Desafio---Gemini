{
  "nbformat": 4,
  "nbformat_minor": 0,
  "metadata": {
    "colab": {
      "provenance": [],
      "authorship_tag": "ABX9TyOvP7h5XuDF2iBavbTjX9g3",
      "include_colab_link": true
    },
    "kernelspec": {
      "name": "python3",
      "display_name": "Python 3"
    },
    "language_info": {
      "name": "python"
    }
  },
  "cells": [
    {
      "cell_type": "markdown",
      "metadata": {
        "id": "view-in-github",
        "colab_type": "text"
      },
      "source": [
        "<a href=\"https://colab.research.google.com/github/DKornillo/Desafio---Gemini/blob/main/Desafio_IA_Idoso.ipynb\" target=\"_parent\"><img src=\"https://colab.research.google.com/assets/colab-badge.svg\" alt=\"Open In Colab\"/></a>"
      ]
    },
    {
      "cell_type": "code",
      "execution_count": null,
      "metadata": {
        "id": "mhqeuM0R9wl8"
      },
      "outputs": [],
      "source": [
        "!pip install -q -U google-generativeai"
      ]
    },
    {
      "cell_type": "code",
      "source": [
        "import google.generativeai as genai\n",
        "from google.colab import userdata\n",
        "\n",
        "api_key = userdata.get('SECRET_KEY')\n",
        "genai.configure(api_key=api_key)"
      ],
      "metadata": {
        "id": "SRP1w1-K97WT"
      },
      "execution_count": null,
      "outputs": []
    },
    {
      "cell_type": "code",
      "source": [
        "for m in genai.list_models():\n",
        "  if 'generateContent' in m.supported_generation_methods:\n",
        "    print(m.name)"
      ],
      "metadata": {
        "id": "dtT6BtlV9-i9"
      },
      "execution_count": null,
      "outputs": []
    },
    {
      "cell_type": "code",
      "source": [
        "generation_config = {\n",
        "  \"temperature\": 0.5,\n",
        "  \"candidate_count\" : 1,\n",
        "}\n",
        "\n",
        "safety_settings = [\n",
        "  {\n",
        "    \"category\": \"HARM_CATEGORY_HARASSMENT\",\n",
        "    \"threshold\": \"BLOCK_NONE\"\n",
        "  },\n",
        "  {\n",
        "    \"category\": \"HARM_CATEGORY_HATE_SPEECH\",\n",
        "    \"threshold\": \"BLOCK_NONE\"\n",
        "  },\n",
        "  {\n",
        "    \"category\": \"HARM_CATEGORY_SEXUALLY_EXPLICIT\",\n",
        "    \"threshold\": \"BLOCK_NONE\"\n",
        "  },\n",
        "  {\n",
        "    \"category\": \"HARM_CATEGORY_DANGEROUS_CONTENT\",\n",
        "    \"threshold\": \"BLOCK_NONE\"\n",
        "  },\n",
        "]\n",
        "\n",
        "\n",
        "system_instruction = \"Você é um jovem explicando para um idoso\"\n"
      ],
      "metadata": {
        "id": "JFyWAE6c-IiC"
      },
      "execution_count": null,
      "outputs": []
    },
    {
      "cell_type": "code",
      "source": [
        "model = genai.GenerativeModel(model_name=\"gemini-1.5-pro-latest\",\n",
        "                              generation_config=generation_config,\n",
        "                              system_instruction=system_instruction,\n",
        "                              safety_settings=safety_settings)\n"
      ],
      "metadata": {
        "id": "OW-L8HHA-UeX"
      },
      "execution_count": null,
      "outputs": []
    },
    {
      "cell_type": "code",
      "source": [
        "chat = model.start_chat(history=[])\n",
        "prompt = input(\"Qual a sua dúvida: \")\n",
        "\n",
        "while prompt!= \"ok\":\n",
        "  response = chat.send_message(prompt, generation_config=generation_config, safety_settings=safety_settings)\n",
        "  print(\"Resposta: \",response.text, \"\\n\")\n",
        "  prompt = input(\"Ainda quer ajuda: \")\n",
        "  if prompt == \"ok\":\n",
        "    print(\"Então até logo\")"
      ],
      "metadata": {
        "colab": {
          "base_uri": "https://localhost:8080/",
          "height": 394
        },
        "id": "I7EXhScF-Vx9",
        "outputId": "98733c11-7cd7-4847-b14b-647432fca6ab"
      },
      "execution_count": null,
      "outputs": [
        {
          "output_type": "stream",
          "name": "stdout",
          "text": [
            "Qual a sua dúvida: Colo ligar a tv?\n",
            "Resposta:  Claro, vovô/vovó! Vou te ajudar a ligar a TV. \n",
            "\n",
            "**Primeiro, vamos encontrar o controle remoto.** É aquele aparelhinho comprido com vários botões coloridos. Às vezes ele fica perdido no sofá ou na mesinha de centro. \n",
            "\n",
            "**Achou? Ótimo!** Agora, procure por um botão que tenha um círculo colorido ou a palavra \"Power\". Ele pode ser vermelho, verde ou até mesmo preto. \n",
            "\n",
            "**Aperte esse botão uma vez.** A TV deve ligar e a tela vai acender. \n",
            "\n",
            "**Se a TV não ligar,** pode ser que as pilhas do controle remoto estejam fracas. A gente pode trocar depois, se precisar. \n",
            "\n",
            "**Agora, para escolher o canal, você pode usar os botões com números ou os botões de \"Canal +\" e \"Canal -\".** \n",
            "\n",
            "**Se quiser aumentar ou diminuir o volume, procure pelos botões com um desenho de alto-falante.** Um deles aumenta o volume e o outro diminui. \n",
            "\n",
            "**Pronto!** Agora você pode aproveitar sua programação favorita. Se tiver alguma dúvida, é só me chamar. \n",
            " \n",
            "\n",
            "Ainda quer ajuda: ok\n",
            "Então até logo\n"
          ]
        }
      ]
    }
  ]
}